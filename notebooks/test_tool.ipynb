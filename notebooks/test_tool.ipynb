{
 "cells": [
  {
   "cell_type": "code",
   "execution_count": 1,
   "metadata": {},
   "outputs": [],
   "source": [
    "# Add this at the beginning of the notebook, before any other imports\n",
    "import sys\n",
    "import os\n",
    "\n",
    "sys.path.append(os.path.dirname(os.path.abspath('.')))"
   ]
  },
  {
   "cell_type": "code",
   "execution_count": 3,
   "metadata": {},
   "outputs": [],
   "source": [
    "from news_analyst_agent.tools.yfinance_news import yf_tool\n",
    "from news_analyst_agent.tools.ddg_search import ddg_search"
   ]
  },
  {
   "cell_type": "code",
   "execution_count": 5,
   "metadata": {},
   "outputs": [
    {
     "name": "stderr",
     "output_type": "stream",
     "text": [
      "\u001b[32m2025-02-15 10:28:50.667\u001b[0m | \u001b[34m\u001b[1mDEBUG   \u001b[0m | \u001b[36mnews_analyst_agent.tools.ddg_search\u001b[0m:\u001b[36m_run\u001b[0m:\u001b[36m49\u001b[0m - \u001b[34m\u001b[1mUse ddg_search tool with query: deepseek\u001b[0m\n"
     ]
    },
    {
     "data": {
      "text/plain": [
       "[{'title': 'UofL bans Chinese AI DeepSeek amid surge of state government bans',\n",
       "  'description': \"The University of Louisville has banned the Chinese startup's newly released AI chatbot, following the lead of several recent state government bans.\",\n",
       "  'content': None,\n",
       "  'link': 'https://www.yahoo.com/news/uofl-bans-chinese-ai-deepseek-120305755.html',\n",
       "  'query': 'deepseek',\n",
       "  'source': 'ddg'},\n",
       " {'title': 'DeepSeek — Latest news and insights',\n",
       "  'description': 'DeepSeek AI is designed to offer open-source LLMs, efficient architecture, advanced reasoning, multimodal learning. Here are five things you need to know about DeepSeek as well as ongoing coverage of this new AI development.',\n",
       "  'content': None,\n",
       "  'link': 'https://www.computerworld.com/article/3815603/deepseek-latest-news-and-insights.html',\n",
       "  'query': 'deepseek',\n",
       "  'source': 'ddg'},\n",
       " {'title': \"Google AI chief tells employees company has 'all the ingredients' to hold AI lead over China's DeepSeek\",\n",
       "  'description': 'The question is, \"what lessons and implications\" Google can glean from DeepSeek\\'s success as the company trains future models.',\n",
       "  'content': None,\n",
       "  'link': 'https://www.msn.com/en-us/news/technology/google-ai-chief-says-company-has-all-the-ingredients-to-hold-ai-lead-over-chinas-deepseek/ar-AA1z4Dzd',\n",
       "  'query': 'deepseek',\n",
       "  'source': 'ddg'},\n",
       " {'title': 'AI Companies Reassess Their Subscriptions After DeepSeek Released Advanced Model for Free',\n",
       "  'description': \"Baidu and OpenAI announced premium models at no cost over the next few months after DeepSeek's generative AI caused a lot of buzz.\",\n",
       "  'content': None,\n",
       "  'link': 'https://www.eweek.com/news/deepseek-free-models-baidu-openai/',\n",
       "  'query': 'deepseek',\n",
       "  'source': 'ddg'},\n",
       " {'title': \"Qualcomm Could Benefit Most From DeepSeek's New, Smaller AI\",\n",
       "  'description': 'Moreover, Qualcomm believes that AI is becoming the new user interface thanks to the emerging trends in AI agents. Personalized multimodal agents will simplify interactions and proficiently complete tasks across various applications.',\n",
       "  'content': None,\n",
       "  'link': 'https://www.forbes.com/sites/karlfreund/2025/02/14/qualcomm-could-benefit-most-from-deepseeks-new-smaller-ai/',\n",
       "  'query': 'deepseek',\n",
       "  'source': 'ddg'}]"
      ]
     },
     "execution_count": 5,
     "metadata": {},
     "output_type": "execute_result"
    }
   ],
   "source": [
    "# query = \"which companies stock price will be affected by deepseek?\"\n",
    "query = \"deepseek\"\n",
    "res_ddg = ddg_search.invoke(query)\n",
    "res_ddg"
   ]
  },
  {
   "cell_type": "code",
   "execution_count": 7,
   "metadata": {},
   "outputs": [
    {
     "name": "stderr",
     "output_type": "stream",
     "text": [
      "\u001b[32m2025-02-15 10:30:23.989\u001b[0m | \u001b[34m\u001b[1mDEBUG   \u001b[0m | \u001b[36mnews_analyst_agent.tools.yfinance_news\u001b[0m:\u001b[36m_run\u001b[0m:\u001b[36m42\u001b[0m - \u001b[34m\u001b[1mUse yfinance_news tool with query: aapl\u001b[0m\n"
     ]
    },
    {
     "data": {
      "text/plain": [
       "[{'title': \"Surprise: McDonald's Has Higher Profit Margins Than Tesla, Apple, or Netflix\",\n",
       "  'description': \"Restaurants have notoriously low profit margins.  In fact, its profit margins are higher than prestigious businesses such as Tesla (NASDAQ: TSLA), Apple (NASDAQ: AAPL), and Netflix (NASDAQ: NFLX).  On Feb. 10, McDonald's reported finalized financial results for 2024.\",\n",
       "  'content': '\\n\\n\\n\\n\\nSurprise: McDonald\\'s Has Higher Profit Margins Than Tesla, Apple, or Netflix\\n\\n\\n\\n\\n\\n\\n\\n\\n\\n\\n\\n\\n\\n\\n\\n\\n\\n\\n\\n\\n\\n\\n\\n\\n\\n\\n\\n \\n\\n\\n\\n\\n\\n\\n\\n\\n\\n\\n\\n\\n\\n\\n\\n\\n\\n\\n\\n\\n\\n\\n\\n\\n\\n\\n\\n\\n\\n\\n\\n\\n\\n\\n\\n\\n\\n\\n\\n\\n\\n\\n\\n\\n\\n\\n\\n\\n\\n\\n\\n\\n\\n\\n\\n\\n\\n\\n\\n\\n\\n\\n\\n\\n\\n\\n\\n\\n\\n\\n\\n\\n\\n\\n\\n\\n\\n\\n\\n\\n\\n\\n\\n\\n\\n\\n\\n\\n\\n  \\n\\n\\n\\n              News  Today\\'s news   US   Politics   World   Tech  Reviews and deals  Audio  Computing  Gaming  Health  Home  Phones  Science  TVs     Climate change   Health   Science   Originals  The 360     Newsletters    Life  Health  COVID-19  Fall allergies  Health news  Mental health  Relax  Sexual health  Studies  The Unwind     Parenting  Family health  So mini ways     Style and beauty  It Figures  Unapologetically     Horoscopes   Shopping  Buying guides     Food   Travel   Autos   Gift ideas   Buying guides    Entertainment  Celebrity   TV   Movies   Music   How to Watch   Interviews   Videos     Finance  My Portfolio   News  Latest  Stock Market  Originals  The Morning Brief  Economies  Tariff Updates  Premium News     Earnings  Tech  Housing  Crypto     Markets  Stocks: Most Actives  Stocks: Gainers  Stocks: Losers  Trending Tickers  Futures  World Indices  US Treasury Bonds Rates  Currencies  Crypto  Top ETFs  Top Mutual Funds  Options: Highest Open Interest  Options: Highest Implied Volatility  Sectors  Basic Materials  Communication Services  Consumer Cyclical  Consumer Defensive  Energy  Financial Services  Healthcare  Industrials  Real Estate  Technology  Utilities     Research  Screeners  Calendar  Stock Comparison  Advanced Chart  Currency Converter  Investment Ideas     Research Reports        Personal Finance  Credit Cards  Banking  Best HYSA  Student Loans  Personal Loans  Insurance  Mortgages  Mortgage Calculator  Taxes     Videos  Latest  Editor\\'s Picks  Investing Insights  Trending Stocks  All Shows  Morning Brief  Opening Bid  Wealth  ETF Report  Trade This Way  Options 101  Davos 2025     Streaming Now    Sports  Fantasy  News  Fantasy football  Best Ball  Pro Pick \\'Em  College Pick \\'Em  Fantasy baseball  Fantasy hockey  Fantasy basketball  Download the app     Daily fantasy   NFL  News  Scores and schedules  Standings  Stats  Teams  Players  Drafts  Injuries  Odds  Super Bowl  GameChannel  Videos     MLB  News  Scores and schedules  Standings  Stats  Teams  Players  Odds  Videos  World Baseball Classic     NBA  News  Draft  Scores and schedules  Standings  Stats  Teams  Players  Injuries  Videos  Odds  Playoffs     NHL  News  Scores and schedules  Standings  Stats  Teams  Players  Odds  Playoffs     Soccer  News  Scores and schedules  Premier League  MLS  NWSL  Liga MX  CONCACAF League  Champions League  La Liga  Serie A  Bundesliga  Ligue 1  World Cup     College football  News  Scores and schedules  Standings  Rankings  Stats  Teams     Show all  MMA  WNBA  Sportsbook  NCAAF  Tennis  Golf  NASCAR  NCAAB  NCAAW  Boxing  USFL  Cycling  Motorsports  Olympics  Horse racing  GameChannel  Rivals  Newsletters  Podcasts  Videos  RSS  Jobs  Help  World Cup  More news     New on Yahoo Creators Games Tech Local Services    Terms  Privacy  Your Privacy Choices     Feedback   © 2025  All rights reserved.  About our ads  Advertising  Careers    Yahoo Finance                                    Yahoo Finance    Search query                  Select edition  USEnglish   US y LATAMEspañol  AustraliaEnglish  CanadaEnglish  CanadaFrançais  DeutschlandDeutsch  FranceFrançais  香港繁中  MalaysiaEnglish  New ZealandEnglish  SingaporeEnglish  台灣繁中  UKEnglish     News   Finance   Sports   More News Today\\'s news  US  Politics  World  Weather  Climate change  Health  Science  Originals  Newsletters   Life Health  Parenting  Style and beauty  Horoscopes  Shopping  Food  Travel  Autos  Gift ideas  Buying guides   Entertainment Celebrity  TV  Movies  Music  How to watch  Interviews  Videos   Finance My portfolio  Watchlists  Markets  News  Videos  Screeners  Personal finance  Crypto  Industries   Sports Fantasy  NFL  NBA  MLB  NHL  College football  College basketball  Soccer  MMA  Yahoo Sports AM    New on Yahoo Creators Games Tech Local Services    Selected edition   USEnglish             Mail       Sign in       My Portfolio    News    Latest Stock Market Originals The Morning Brief Economies Tariff Updates Premium News   Earnings Tech Housing Crypto    Markets    Stocks: Most Actives Stocks: Gainers Stocks: Losers Trending Tickers Futures World Indices US Treasury Bonds Rates Currencies Crypto Top ETFs Top Mutual Funds Options: Highest Open Interest Options: Highest Implied Volatility Sectors Basic Materials Communication Services Consumer Cyclical Consumer Defensive Energy Financial Services Healthcare Industrials Real Estate Technology Utilities    Research    Screeners Calendar Stock Comparison Advanced Chart Currency Converter Investment Ideas   Research Reports      Personal Finance    Credit Cards Banking Best HYSA Student Loans Personal Loans Insurance Mortgages Mortgage Calculator Taxes    Videos    Latest Editor\\'s Picks Investing Insights Trending Stocks All Shows Morning Brief Opening Bid Wealth ETF Report Trade This Way Options 101 Davos 2025     Streaming Now    …  \\n\\n\\n\\n\\nUpgrade to Premium\\n\\n                Surprise: McDonald\\'s Has Higher Profit Margins Than Tesla, Apple, or Netflix       Jon Quast, The Motley Fool   Sat, Feb 15, 2025, 3:14 AM 4 min read                   In This Article:    MCD      NFLX      TSLA      AAPL       Restaurants have notoriously low profit margins. But McDonald\\'s (NYSE: MCD), the world\\'s largest restaurant chain, is surprisingly one of the most profitable businesses. In fact, its profit margins are higher than prestigious businesses such as Tesla (NASDAQ: TSLA), Apple (NASDAQ: AAPL), and Netflix (NASDAQ: NFLX).    I should clarify that profits can be measured from multiple angles. But one of the best ways to measure profits is with the operating margin. This metric excludes things that aren\\'t related to regular business operations -- such as taxes, which can swing wildly from year to year -- and focuses only on the profits the business produces. On Feb. 10, McDonald\\'s reported finalized financial results for 2024. During the year, the company had a stellar operating margin of 45%. That\\'s among the very best in the world. And as the chart below shows, it\\'s far better than the operating margin for companies such as Tesla, Apple, and Netflix.   MCD Operating Margin (TTM) data by YCharts   Assuming that the core business is burgers and fries, it would seem that McDonald\\'s makes $45 in operating profit for every $100 it has in sales. This would suggest that its food is outrageously overpriced. But if you assume that selling food is the core business for McDonald\\'s, you\\'re wrong. McDonald\\'s has operating margins as good or better than even the most profitable tech companies because it\\'s not in the food business per se. And it\\'s a really interesting thing for investors to note, as I\\'ll explain. The secret sauce for McDonald\\'s As of this writing, I\\'m still waiting on McDonald\\'s to file its annual report, which contains more detailed financials than what it usually reports to investors. So allow me to mention some 2023 numbers for illustrative purposes. In 2023, McDonald\\'s generated total revenue of $25.5 billion. Of this, it generated $15.4 billion (over 60% of its total revenue) from its franchised restaurants -- restaurants operated by independent third parties. The bulk of franchised revenue for McDonald\\'s comes from a particularly surprising source. As it turns out, the company owns a lot of real estate that it rents out to its franchises. It generated $9.8 billion in rental income in 2023.    McDonald\\'s had over $27 billion in real estate at the end of 2023, when looking at land that it owned and buildings that were on land that it owned. This gives McDonald\\'s the largest real estate portfolio of any restaurant company in the world. And this dynamic goes a long way to explaining why it has operating margins that are so high compared to other restaurant chains.  Story Continues    In other words, McDonald\\'s primarily offers third-party franchisees an opportunity to run a restaurant business. The company provides franchisees with the brand, the system, and even the building. The franchisees sell the classic burgers and fries, which is a much lower-margin business. But the parent company gets royalties and rental income, which is so high-margin that even software companies are jealous. What does this mean for investors today? McDonald\\'s expects its operating margin to further improve in 2025. And even a modest improvement could still result in a large increase in operating profits given how massive the business is. Another interesting thing to consider is that McDonald\\'s has around 43,000 restaurant locations today but expects to surpass 50,000 in 2027. That\\'s a 16% increase in just three years, which is pretty meaningful for a business of this size. And since most of the growth will come from franchisees, expect a respectable increase in its high-margin revenue streams.    Given how big and high-margin this business is, I consider McDonald\\'s stock as one of the safest investments someone could make -- in other words, I believe there\\'s a low chance of losing money over the long term. Given McDonald\\'s size, I\\'d say it doesn\\'t necessarily have the highest upside potential. But it could still be worth holding, and it\\'s worth watching in case the price ever dips to a particularly attractive valuation. Don’t miss this second chance at a potentially lucrative opportunity Ever feel like you missed the boat in buying the most successful stocks? Then you’ll want to hear this. On rare occasions, our expert team of analysts issues a “Double Down” stock recommendation\\xa0for companies that they think are about to pop. If you’re worried you’ve already missed your chance to invest, now is the best time to buy before it’s too late. And the numbers speak for themselves:  Nvidia:\\xa0if you invested $1,000 when we doubled down in 2009,\\xa0you’d have $350,809!*  Apple: if you invested $1,000 when we doubled down in 2008, you’d have $45,792!*  Netflix: if you invested $1,000 when we doubled down in 2004, you’d have $562,853!*   Right now, we’re issuing “Double Down” alerts for three incredible companies, and there may not be another chance like this anytime soon. Learn more » *Stock Advisor returns as of February 3, 2025 Jon Quast has no position in any of the stocks mentioned. The Motley Fool has positions in and recommends Apple, Netflix, and Tesla. The Motley Fool has a disclosure policy. Surprise: McDonald\\'s Has Higher Profit Margins Than Tesla, Apple, or Netflix was originally published by The Motley Fool  Terms   and Privacy Policy   Your Privacy Choices      More Info     Recommended Stories        Copyright © 2025 Yahoo. All rights reserved.     POPULAR QUOTES Dow Jones   S&P 500   DAX Index   Nvidia   Tesla   DJT   Tariffs    EXPLORE MORE Mortgages   Credit Cards   Sectors   Crypto Heatmap   Financial News    ABOUT Data Disclaimer   Help   Feedback   Sitemap   Licensing    What\\'s New   About Our Ads    Premium Plans   Terms   and Privacy Policy   Your Privacy Choices      More Info              U.S. markets closed     US   Europe   Asia   Rates   Commodities   Currencies   Cryptocurrencies     S&P 500   6,114.63 -0.44 (-0.01%)            Dow 30   44,546.08 -165.35 (-0.37%)            Nasdaq   20,026.77 +81.13 (+0.41%)            Russell 2000   2,279.98 -2.20 (-0.10%)            Crude Oil   70.57 -0.72 (-1.01%)            Gold   2,893.70 -51.70 (-1.76%)                     My Portfolios    My Portfolios    Sign in to access your portfolio Sign in       Top Gainers       WRD WeRide Inc. 31.50 +14.33 (+83.46%)             RXRX Recursion Pharmaceuticals, Inc. 10.53 +2.03 (+23.88%)             KC Kingsoft Cloud Holdings Limited 20.81 +3.46 (+19.94%)             GT The Goodyear Tire & Rubber Company 9.58 +1.41 (+17.26%)             PCOR Procore Technologies, Inc. 87.50 +12.40 (+16.51%)               Top Losers       SOUN SoundHound AI, Inc. 10.97 -4.28 (-28.10%)             INFA Informatica Inc. 19.75 -5.42 (-21.53%)             TWLO Twilio Inc. 125.17 -22.11 (-15.01%)             HL Hecla Mining Company 5.44 -0.93 (-14.60%)             GDDY GoDaddy Inc. 182.19 -30.35 (-14.28%)               Most Active       INTC Intel Corporation 23.60 -0.53 (-2.20%)             SOUN SoundHound AI, Inc. 10.97 -4.28 (-28.10%)             NVDA NVIDIA Corporation 138.85 +3.56 (+2.63%)             SMCI Super Micro Computer, Inc. 47.91 +5.63 (+13.32%)             BBAI BigBear.ai Holdings, Inc. 9.02 -0.76 (-7.77%)               Trending Tickers       BTC-USD Bitcoin USD 97,628.88 +1,102.54 (+1.14%)             STZ Constellation Brands, Inc. 162.94 -0.26 (-0.16%)             XRP-USD XRP USD 2.79 +0.08 (+2.81%)             DJT Trump Media & Technology Group Corp. 30.39 -0.28 (-0.91%)             RDDT Reddit, Inc. 196.38 -8.57 (-4.18%)               Top Economic Events    Top Economic Events    United States      There are no important events for this country at this time.  Select \"All\" to see top events in other countries or view all events. View All Events         Terms   and Privacy Policy   Your Privacy Choices     Ad Terms   Feedback   More Info          \\n\\n\\n\\n\\n\\n\\n\\n\\n\\n\\n\\n\\n\\n\\n\\n\\n\\n\\n\\n\\n\\n\\n\\n\\n',\n",
       "  'link': 'https://finance.yahoo.com/m/47835fa9-bf4b-33df-83cb-5e97a8a2f14b/surprise%3A-mcdonald%27s-has.html',\n",
       "  'query': 'aapl',\n",
       "  'source': 'yfinance'}]"
      ]
     },
     "execution_count": 7,
     "metadata": {},
     "output_type": "execute_result"
    }
   ],
   "source": [
    "query = \"AAPL\"\n",
    "res_yf = yf_tool.invoke(query)\n",
    "res_yf"
   ]
  },
  {
   "cell_type": "code",
   "execution_count": 8,
   "metadata": {},
   "outputs": [
    {
     "data": {
      "text/plain": [
       "[{'title': \"Surprise: McDonald's Has Higher Profit Margins Than Tesla, Apple, or Netflix\",\n",
       "  'description': \"Restaurants have notoriously low profit margins.  In fact, its profit margins are higher than prestigious businesses such as Tesla (NASDAQ: TSLA), Apple (NASDAQ: AAPL), and Netflix (NASDAQ: NFLX).  On Feb. 10, McDonald's reported finalized financial results for 2024.\",\n",
       "  'content': '\\n\\n\\n\\n\\nSurprise: McDonald\\'s Has Higher Profit Margins Than Tesla, Apple, or Netflix\\n\\n\\n\\n\\n\\n\\n\\n\\n\\n\\n\\n\\n\\n\\n\\n\\n\\n\\n\\n\\n\\n\\n\\n\\n\\n\\n\\n \\n\\n\\n\\n\\n\\n\\n\\n\\n\\n\\n\\n\\n\\n\\n\\n\\n\\n\\n\\n\\n\\n\\n\\n\\n\\n\\n\\n\\n\\n\\n\\n\\n\\n\\n\\n\\n\\n\\n\\n\\n\\n\\n\\n\\n\\n\\n\\n\\n\\n\\n\\n\\n\\n\\n\\n\\n\\n\\n\\n\\n\\n\\n\\n\\n\\n\\n\\n\\n\\n\\n\\n\\n\\n\\n\\n\\n\\n\\n\\n\\n\\n\\n\\n\\n\\n\\n\\n\\n\\n  \\n\\n\\n\\n              News  Today\\'s news   US   Politics   World   Tech  Reviews and deals  Audio  Computing  Gaming  Health  Home  Phones  Science  TVs     Climate change   Health   Science   Originals  The 360     Newsletters    Life  Health  COVID-19  Fall allergies  Health news  Mental health  Relax  Sexual health  Studies  The Unwind     Parenting  Family health  So mini ways     Style and beauty  It Figures  Unapologetically     Horoscopes   Shopping  Buying guides     Food   Travel   Autos   Gift ideas   Buying guides    Entertainment  Celebrity   TV   Movies   Music   How to Watch   Interviews   Videos     Finance  My Portfolio   News  Latest  Stock Market  Originals  The Morning Brief  Economies  Tariff Updates  Premium News     Earnings  Tech  Housing  Crypto     Markets  Stocks: Most Actives  Stocks: Gainers  Stocks: Losers  Trending Tickers  Futures  World Indices  US Treasury Bonds Rates  Currencies  Crypto  Top ETFs  Top Mutual Funds  Options: Highest Open Interest  Options: Highest Implied Volatility  Sectors  Basic Materials  Communication Services  Consumer Cyclical  Consumer Defensive  Energy  Financial Services  Healthcare  Industrials  Real Estate  Technology  Utilities     Research  Screeners  Calendar  Stock Comparison  Advanced Chart  Currency Converter  Investment Ideas     Research Reports        Personal Finance  Credit Cards  Banking  Best HYSA  Student Loans  Personal Loans  Insurance  Mortgages  Mortgage Calculator  Taxes     Videos  Latest  Editor\\'s Picks  Investing Insights  Trending Stocks  All Shows  Morning Brief  Opening Bid  Wealth  ETF Report  Trade This Way  Options 101  Davos 2025     Streaming Now    Sports  Fantasy  News  Fantasy football  Best Ball  Pro Pick \\'Em  College Pick \\'Em  Fantasy baseball  Fantasy hockey  Fantasy basketball  Download the app     Daily fantasy   NFL  News  Scores and schedules  Standings  Stats  Teams  Players  Drafts  Injuries  Odds  Super Bowl  GameChannel  Videos     MLB  News  Scores and schedules  Standings  Stats  Teams  Players  Odds  Videos  World Baseball Classic     NBA  News  Draft  Scores and schedules  Standings  Stats  Teams  Players  Injuries  Videos  Odds  Playoffs     NHL  News  Scores and schedules  Standings  Stats  Teams  Players  Odds  Playoffs     Soccer  News  Scores and schedules  Premier League  MLS  NWSL  Liga MX  CONCACAF League  Champions League  La Liga  Serie A  Bundesliga  Ligue 1  World Cup     College football  News  Scores and schedules  Standings  Rankings  Stats  Teams     Show all  MMA  WNBA  Sportsbook  NCAAF  Tennis  Golf  NASCAR  NCAAB  NCAAW  Boxing  USFL  Cycling  Motorsports  Olympics  Horse racing  GameChannel  Rivals  Newsletters  Podcasts  Videos  RSS  Jobs  Help  World Cup  More news     New on Yahoo Creators Games Tech Local Services    Terms  Privacy  Your Privacy Choices     Feedback   © 2025  All rights reserved.  About our ads  Advertising  Careers    Yahoo Finance                                    Yahoo Finance    Search query                  Select edition  USEnglish   US y LATAMEspañol  AustraliaEnglish  CanadaEnglish  CanadaFrançais  DeutschlandDeutsch  FranceFrançais  香港繁中  MalaysiaEnglish  New ZealandEnglish  SingaporeEnglish  台灣繁中  UKEnglish     News   Finance   Sports   More News Today\\'s news  US  Politics  World  Weather  Climate change  Health  Science  Originals  Newsletters   Life Health  Parenting  Style and beauty  Horoscopes  Shopping  Food  Travel  Autos  Gift ideas  Buying guides   Entertainment Celebrity  TV  Movies  Music  How to watch  Interviews  Videos   Finance My portfolio  Watchlists  Markets  News  Videos  Screeners  Personal finance  Crypto  Industries   Sports Fantasy  NFL  NBA  MLB  NHL  College football  College basketball  Soccer  MMA  Yahoo Sports AM    New on Yahoo Creators Games Tech Local Services    Selected edition   USEnglish             Mail       Sign in       My Portfolio    News    Latest Stock Market Originals The Morning Brief Economies Tariff Updates Premium News   Earnings Tech Housing Crypto    Markets    Stocks: Most Actives Stocks: Gainers Stocks: Losers Trending Tickers Futures World Indices US Treasury Bonds Rates Currencies Crypto Top ETFs Top Mutual Funds Options: Highest Open Interest Options: Highest Implied Volatility Sectors Basic Materials Communication Services Consumer Cyclical Consumer Defensive Energy Financial Services Healthcare Industrials Real Estate Technology Utilities    Research    Screeners Calendar Stock Comparison Advanced Chart Currency Converter Investment Ideas   Research Reports      Personal Finance    Credit Cards Banking Best HYSA Student Loans Personal Loans Insurance Mortgages Mortgage Calculator Taxes    Videos    Latest Editor\\'s Picks Investing Insights Trending Stocks All Shows Morning Brief Opening Bid Wealth ETF Report Trade This Way Options 101 Davos 2025     Streaming Now    …  \\n\\n\\n\\n\\nUpgrade to Premium\\n\\n                Surprise: McDonald\\'s Has Higher Profit Margins Than Tesla, Apple, or Netflix       Jon Quast, The Motley Fool   Sat, Feb 15, 2025, 3:14 AM 4 min read                   In This Article:    MCD      NFLX      TSLA      AAPL       Restaurants have notoriously low profit margins. But McDonald\\'s (NYSE: MCD), the world\\'s largest restaurant chain, is surprisingly one of the most profitable businesses. In fact, its profit margins are higher than prestigious businesses such as Tesla (NASDAQ: TSLA), Apple (NASDAQ: AAPL), and Netflix (NASDAQ: NFLX).    I should clarify that profits can be measured from multiple angles. But one of the best ways to measure profits is with the operating margin. This metric excludes things that aren\\'t related to regular business operations -- such as taxes, which can swing wildly from year to year -- and focuses only on the profits the business produces. On Feb. 10, McDonald\\'s reported finalized financial results for 2024. During the year, the company had a stellar operating margin of 45%. That\\'s among the very best in the world. And as the chart below shows, it\\'s far better than the operating margin for companies such as Tesla, Apple, and Netflix.   MCD Operating Margin (TTM) data by YCharts   Assuming that the core business is burgers and fries, it would seem that McDonald\\'s makes $45 in operating profit for every $100 it has in sales. This would suggest that its food is outrageously overpriced. But if you assume that selling food is the core business for McDonald\\'s, you\\'re wrong. McDonald\\'s has operating margins as good or better than even the most profitable tech companies because it\\'s not in the food business per se. And it\\'s a really interesting thing for investors to note, as I\\'ll explain. The secret sauce for McDonald\\'s As of this writing, I\\'m still waiting on McDonald\\'s to file its annual report, which contains more detailed financials than what it usually reports to investors. So allow me to mention some 2023 numbers for illustrative purposes. In 2023, McDonald\\'s generated total revenue of $25.5 billion. Of this, it generated $15.4 billion (over 60% of its total revenue) from its franchised restaurants -- restaurants operated by independent third parties. The bulk of franchised revenue for McDonald\\'s comes from a particularly surprising source. As it turns out, the company owns a lot of real estate that it rents out to its franchises. It generated $9.8 billion in rental income in 2023.    McDonald\\'s had over $27 billion in real estate at the end of 2023, when looking at land that it owned and buildings that were on land that it owned. This gives McDonald\\'s the largest real estate portfolio of any restaurant company in the world. And this dynamic goes a long way to explaining why it has operating margins that are so high compared to other restaurant chains.  Story Continues    In other words, McDonald\\'s primarily offers third-party franchisees an opportunity to run a restaurant business. The company provides franchisees with the brand, the system, and even the building. The franchisees sell the classic burgers and fries, which is a much lower-margin business. But the parent company gets royalties and rental income, which is so high-margin that even software companies are jealous. What does this mean for investors today? McDonald\\'s expects its operating margin to further improve in 2025. And even a modest improvement could still result in a large increase in operating profits given how massive the business is. Another interesting thing to consider is that McDonald\\'s has around 43,000 restaurant locations today but expects to surpass 50,000 in 2027. That\\'s a 16% increase in just three years, which is pretty meaningful for a business of this size. And since most of the growth will come from franchisees, expect a respectable increase in its high-margin revenue streams.    Given how big and high-margin this business is, I consider McDonald\\'s stock as one of the safest investments someone could make -- in other words, I believe there\\'s a low chance of losing money over the long term. Given McDonald\\'s size, I\\'d say it doesn\\'t necessarily have the highest upside potential. But it could still be worth holding, and it\\'s worth watching in case the price ever dips to a particularly attractive valuation. Don’t miss this second chance at a potentially lucrative opportunity Ever feel like you missed the boat in buying the most successful stocks? Then you’ll want to hear this. On rare occasions, our expert team of analysts issues a “Double Down” stock recommendation\\xa0for companies that they think are about to pop. If you’re worried you’ve already missed your chance to invest, now is the best time to buy before it’s too late. And the numbers speak for themselves:  Nvidia:\\xa0if you invested $1,000 when we doubled down in 2009,\\xa0you’d have $350,809!*  Apple: if you invested $1,000 when we doubled down in 2008, you’d have $45,792!*  Netflix: if you invested $1,000 when we doubled down in 2004, you’d have $562,853!*   Right now, we’re issuing “Double Down” alerts for three incredible companies, and there may not be another chance like this anytime soon. Learn more » *Stock Advisor returns as of February 3, 2025 Jon Quast has no position in any of the stocks mentioned. The Motley Fool has positions in and recommends Apple, Netflix, and Tesla. The Motley Fool has a disclosure policy. Surprise: McDonald\\'s Has Higher Profit Margins Than Tesla, Apple, or Netflix was originally published by The Motley Fool  Terms   and Privacy Policy   Your Privacy Choices      More Info     Recommended Stories        Copyright © 2025 Yahoo. All rights reserved.     POPULAR QUOTES Dow Jones   S&P 500   DAX Index   Nvidia   Tesla   DJT   Tariffs    EXPLORE MORE Mortgages   Credit Cards   Sectors   Crypto Heatmap   Financial News    ABOUT Data Disclaimer   Help   Feedback   Sitemap   Licensing    What\\'s New   About Our Ads    Premium Plans   Terms   and Privacy Policy   Your Privacy Choices      More Info              U.S. markets closed     US   Europe   Asia   Rates   Commodities   Currencies   Cryptocurrencies     S&P 500   6,114.63 -0.44 (-0.01%)            Dow 30   44,546.08 -165.35 (-0.37%)            Nasdaq   20,026.77 +81.13 (+0.41%)            Russell 2000   2,279.98 -2.20 (-0.10%)            Crude Oil   70.57 -0.72 (-1.01%)            Gold   2,893.70 -51.70 (-1.76%)                     My Portfolios    My Portfolios    Sign in to access your portfolio Sign in       Top Gainers       WRD WeRide Inc. 31.50 +14.33 (+83.46%)             RXRX Recursion Pharmaceuticals, Inc. 10.53 +2.03 (+23.88%)             KC Kingsoft Cloud Holdings Limited 20.81 +3.46 (+19.94%)             GT The Goodyear Tire & Rubber Company 9.58 +1.41 (+17.26%)             PCOR Procore Technologies, Inc. 87.50 +12.40 (+16.51%)               Top Losers       SOUN SoundHound AI, Inc. 10.97 -4.28 (-28.10%)             INFA Informatica Inc. 19.75 -5.42 (-21.53%)             TWLO Twilio Inc. 125.17 -22.11 (-15.01%)             HL Hecla Mining Company 5.44 -0.93 (-14.60%)             GDDY GoDaddy Inc. 182.19 -30.35 (-14.28%)               Most Active       INTC Intel Corporation 23.60 -0.53 (-2.20%)             SOUN SoundHound AI, Inc. 10.97 -4.28 (-28.10%)             NVDA NVIDIA Corporation 138.85 +3.56 (+2.63%)             SMCI Super Micro Computer, Inc. 47.91 +5.63 (+13.32%)             BBAI BigBear.ai Holdings, Inc. 9.02 -0.76 (-7.77%)               Trending Tickers       BTC-USD Bitcoin USD 97,628.88 +1,102.54 (+1.14%)             STZ Constellation Brands, Inc. 162.94 -0.26 (-0.16%)             XRP-USD XRP USD 2.79 +0.08 (+2.81%)             DJT Trump Media & Technology Group Corp. 30.39 -0.28 (-0.91%)             RDDT Reddit, Inc. 196.38 -8.57 (-4.18%)               Top Economic Events    Top Economic Events    United States      There are no important events for this country at this time.  Select \"All\" to see top events in other countries or view all events. View All Events         Terms   and Privacy Policy   Your Privacy Choices     Ad Terms   Feedback   More Info          \\n\\n\\n\\n\\n\\n\\n\\n\\n\\n\\n\\n\\n\\n\\n\\n\\n\\n\\n\\n\\n\\n\\n\\n\\n',\n",
       "  'link': 'https://finance.yahoo.com/m/47835fa9-bf4b-33df-83cb-5e97a8a2f14b/surprise%3A-mcdonald%27s-has.html',\n",
       "  'query': 'aapl',\n",
       "  'source': 'yfinance'}]"
      ]
     },
     "execution_count": 8,
     "metadata": {},
     "output_type": "execute_result"
    }
   ],
   "source": [
    "res_yf"
   ]
  },
  {
   "cell_type": "code",
   "execution_count": null,
   "metadata": {},
   "outputs": [],
   "source": []
  }
 ],
 "metadata": {
  "kernelspec": {
   "display_name": ".venv",
   "language": "python",
   "name": "python3"
  },
  "language_info": {
   "codemirror_mode": {
    "name": "ipython",
    "version": 3
   },
   "file_extension": ".py",
   "mimetype": "text/x-python",
   "name": "python",
   "nbconvert_exporter": "python",
   "pygments_lexer": "ipython3",
   "version": "3.12.2"
  }
 },
 "nbformat": 4,
 "nbformat_minor": 2
}
