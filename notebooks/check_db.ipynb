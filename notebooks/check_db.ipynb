{
 "cells": [
  {
   "cell_type": "code",
   "execution_count": 3,
   "metadata": {},
   "outputs": [],
   "source": [
    "# Add this at the beginning of the notebook, before any other imports\n",
    "import sys\n",
    "import os\n",
    "\n",
    "sys.path.append(os.path.dirname(os.path.abspath('.')))"
   ]
  },
  {
   "cell_type": "code",
   "execution_count": 9,
   "metadata": {},
   "outputs": [],
   "source": [
    "from sqlalchemy import select, exists\n",
    "\n",
    "from news_analyst_agent.db.database import AsyncSessionLocal\n",
    "from news_analyst_agent.db.models import User, Thread, Step, Element, Feedback"
   ]
  },
  {
   "cell_type": "code",
   "execution_count": 6,
   "metadata": {},
   "outputs": [
    {
     "name": "stdout",
     "output_type": "stream",
     "text": [
      "2025-02-14 07:36:12,844 INFO sqlalchemy.engine.Engine BEGIN (implicit)\n",
      "2025-02-14 07:36:12,847 INFO sqlalchemy.engine.Engine SELECT threads.id, threads.\"createdAt\", threads.name, threads.\"userId\", threads.\"userIdentifier\", threads.tags, threads.metadata \n",
      "FROM threads ORDER BY threads.\"createdAt\" DESC\n",
      "2025-02-14 07:36:12,847 INFO sqlalchemy.engine.Engine [cached since 12.96s ago] ()\n",
      "2025-02-14 07:36:12,855 INFO sqlalchemy.engine.Engine ROLLBACK\n"
     ]
    }
   ],
   "source": [
    "async with AsyncSessionLocal() as session:\n",
    "    query = select(Thread).order_by(Thread.createdAt.desc())\n",
    "    results = await session.execute(query)\n",
    "    threads = results.scalars().all()"
   ]
  },
  {
   "cell_type": "code",
   "execution_count": 13,
   "metadata": {},
   "outputs": [
    {
     "name": "stdout",
     "output_type": "stream",
     "text": [
      "2025-02-14 07:39:43,175 INFO sqlalchemy.engine.Engine BEGIN (implicit)\n",
      "2025-02-14 07:39:43,177 INFO sqlalchemy.engine.Engine SELECT threads.id, threads.\"createdAt\", threads.name, threads.\"userId\", threads.\"userIdentifier\", threads.tags, threads.metadata \n",
      "FROM threads \n",
      "WHERE NOT (EXISTS (SELECT steps.id, steps.name, steps.type, steps.\"threadId\", steps.\"parentId\", steps.\"disableFeedback\", steps.streaming, steps.\"waitForAnswer\", steps.\"isError\", steps.metadata, steps.tags, steps.input, steps.output, steps.\"createdAt\", steps.start, steps.\"end\", steps.generation, steps.\"showInput\", steps.language, steps.indent \n",
      "FROM steps \n",
      "WHERE steps.\"threadId\" = threads.id)) ORDER BY threads.\"createdAt\" DESC\n",
      "2025-02-14 07:39:43,178 INFO sqlalchemy.engine.Engine [cached since 47.53s ago] ()\n",
      "2025-02-14 07:39:43,185 INFO sqlalchemy.engine.Engine ROLLBACK\n"
     ]
    }
   ],
   "source": [
    "async with AsyncSessionLocal() as session:\n",
    "    # Using NOT EXISTS\n",
    "    subquery = select(Step).where(Step.threadId == Thread.id)\n",
    "    query = select(Thread).where(~exists(subquery)).order_by(Thread.createdAt.desc())\n",
    "    \n",
    "    result = await session.execute(query)\n",
    "    threads_without_steps = result.scalars().all()\n"
   ]
  },
  {
   "cell_type": "code",
   "execution_count": 14,
   "metadata": {},
   "outputs": [
    {
     "data": {
      "text/plain": [
       "17"
      ]
     },
     "execution_count": 14,
     "metadata": {},
     "output_type": "execute_result"
    }
   ],
   "source": [
    "len(threads_without_steps)"
   ]
  },
  {
   "cell_type": "code",
   "execution_count": 15,
   "metadata": {},
   "outputs": [
    {
     "name": "stdout",
     "output_type": "stream",
     "text": [
      "2025-02-14 07:39:49,641 INFO sqlalchemy.engine.Engine BEGIN (implicit)\n",
      "2025-02-14 07:39:49,649 INFO sqlalchemy.engine.Engine SELECT threads.id, threads.\"createdAt\", threads.name, threads.\"userId\", threads.\"userIdentifier\", threads.tags, threads.metadata \n",
      "FROM threads \n",
      "WHERE EXISTS (SELECT steps.id, steps.name, steps.type, steps.\"threadId\", steps.\"parentId\", steps.\"disableFeedback\", steps.streaming, steps.\"waitForAnswer\", steps.\"isError\", steps.metadata, steps.tags, steps.input, steps.output, steps.\"createdAt\", steps.start, steps.\"end\", steps.generation, steps.\"showInput\", steps.language, steps.indent \n",
      "FROM steps \n",
      "WHERE steps.\"threadId\" = threads.id) ORDER BY threads.\"createdAt\" DESC\n",
      "2025-02-14 07:39:49,650 INFO sqlalchemy.engine.Engine [generated in 0.00141s] ()\n",
      "2025-02-14 07:39:49,667 INFO sqlalchemy.engine.Engine ROLLBACK\n"
     ]
    }
   ],
   "source": [
    "async with AsyncSessionLocal() as session:\n",
    "    # Using NOT EXISTS\n",
    "    subquery = select(Step).where(Step.threadId == Thread.id)\n",
    "    query = select(Thread).where(exists(subquery)).order_by(Thread.createdAt.desc())\n",
    "    \n",
    "    result = await session.execute(query)\n",
    "    threads_with_steps = result.scalars().all()\n"
   ]
  },
  {
   "cell_type": "code",
   "execution_count": 16,
   "metadata": {},
   "outputs": [
    {
     "data": {
      "text/plain": [
       "4"
      ]
     },
     "execution_count": 16,
     "metadata": {},
     "output_type": "execute_result"
    }
   ],
   "source": [
    "len(threads_with_steps)"
   ]
  },
  {
   "cell_type": "code",
   "execution_count": 22,
   "metadata": {},
   "outputs": [],
   "source": [
    "thread_ids = [thread.id for thread in threads_with_steps]"
   ]
  },
  {
   "cell_type": "code",
   "execution_count": 23,
   "metadata": {},
   "outputs": [
    {
     "data": {
      "text/plain": [
       "UUID('c81453a2-684e-4ab3-b5e3-c2fd4aa55352')"
      ]
     },
     "execution_count": 23,
     "metadata": {},
     "output_type": "execute_result"
    }
   ],
   "source": [
    "thread_ids[0]\n"
   ]
  },
  {
   "cell_type": "code",
   "execution_count": 24,
   "metadata": {},
   "outputs": [
    {
     "name": "stdout",
     "output_type": "stream",
     "text": [
      "2025-02-14 07:52:34,536 INFO sqlalchemy.engine.Engine BEGIN (implicit)\n",
      "2025-02-14 07:52:34,539 INFO sqlalchemy.engine.Engine SELECT steps.id, steps.name, steps.type, steps.\"threadId\", steps.\"parentId\", steps.\"disableFeedback\", steps.streaming, steps.\"waitForAnswer\", steps.\"isError\", steps.metadata, steps.tags, steps.input, steps.output, steps.\"createdAt\", steps.start, steps.\"end\", steps.generation, steps.\"showInput\", steps.language, steps.indent \n",
      "FROM steps, threads \n",
      "WHERE steps.\"threadId\" = threads.id ORDER BY steps.\"createdAt\" DESC\n",
      "2025-02-14 07:52:34,539 INFO sqlalchemy.engine.Engine [generated in 0.00061s] ()\n",
      "2025-02-14 07:52:34,552 INFO sqlalchemy.engine.Engine ROLLBACK\n"
     ]
    }
   ],
   "source": [
    "async with AsyncSessionLocal() as session:\n",
    "    # Using NOT EXISTS\n",
    "    query = select(Step).where(Step.threadId == Thread.id).order_by(Step.createdAt.desc())\n",
    "    \n",
    "    result = await session.execute(query)\n",
    "    steps = result.scalars().all()"
   ]
  },
  {
   "cell_type": "code",
   "execution_count": 28,
   "metadata": {},
   "outputs": [],
   "source": [
    "news = []\n",
    "msg = []\n",
    "for step in steps:\n",
    "    if step.input == 'Retrieving news':\n",
    "        news.append(step.output)\n",
    "    msg.append({\n",
    "        \"input\": step.input,\n",
    "        \"output\": step.output,\n",
    "    })"
   ]
  },
  {
   "cell_type": "code",
   "execution_count": 31,
   "metadata": {},
   "outputs": [
    {
     "data": {
      "text/plain": [
       "[{'title': 'Microsoft Stock Is Falling as Artificial Intelligence (AI) Growth Is Getting More Expensive',\n",
       "  'description': \"To its credit, Microsoft is in a solid competitive position to benefit from enterprise investment in AI services. Microsoft's cloud revenue surpassed $40 billion and grew 21% year over year. AI-related revenue is up to $13 billion on an annualized basis, and up 175% year over year.\"},\n",
       " {'title': \"You thought Magnificent 7 and tech stocks were the only winners of AI boom? Wait! Here's a sector whose stocks could be an under-the-radar winner, say analysts\",\n",
       "  'description': 'Retail stores such as Walmart and Target stand to gain from the enormous artificial intelligence investments being made by technology giants, without having to spend billions on infrastructure. According to Morgan Stanley analysts,'},\n",
       " {'title': \"What DeepSeek's AI Innovation Means For Investors And Big Tech\",\n",
       "  'description': \"DeepSeek's AI breakthrough challenges Big Tech with a cheaper, efficient model. This may be bad for the incumbents, but good for everybody else.\"},\n",
       " {'title': 'Better Artificial Intelligence (AI) Stock for 2025: Nvidia vs. Microsoft',\n",
       "  'description': 'Nvidia (NASDAQ: NVDA) and Microsoft (NASDAQ: MSFT) are pioneers in artificial intelligence (AI) as both companies have played central roles in bringing this technology ... the impact of AI on ...'},\n",
       " {'title': \"Microsoft (MSFT): Brad Smith on China's Tech Rise and Global AI Advancements\",\n",
       "  'description': 'We recently published a list of 15 Trending AI Stocks on Latest ... $3.1 Trillion Microsoft Corporation (NASDAQ:MSFT) is a Washington-based technology company. On November 13, Brad Smith, the ...'},\n",
       " {'title': 'Microsoft Supercharges AI to fix Windows software bugs',\n",
       "  'description': \"Microsoft's new patent shows an upcoming system AI that makes detecting and fixing software issues easier for developers and regular Windows users.\"},\n",
       " {'title': 'Microsoft Corporation (MSFT): Among Lee Munder Capital Group’s Top Stock Picks',\n",
       "  'description': 'We recently compiled a list of the Top 10 Stocks to Buy According to Lee Munder Capital Group. In this article, we are going to take a look at where Microsoft Corporation (NASDAQ:MSFT) stands against the other stocks. Lee Munder Capital Group Investments, more commonly known as LMCG Investments, LLC, is an independent, employee-owned investment management […]'},\n",
       " {'title': 'Is Microsoft Corporation (MSFT) the Best Major Stock to Buy According to Hedge Funds?',\n",
       "  'description': 'We recently published a list of 10 Best Major Stocks to Buy According to Hedge Funds. In this article, we are going to take a look at where Microsoft Corporation (NASDAQ:MSFT) stands against other best major stocks to buy according to hedge funds. After a notable growth of 25% for the broader market in 2024, […]'},\n",
       " {'title': 'DoubleLine Asks Whether Microsoft Debt Is Safer Than Treasuries',\n",
       "  'description': '(Bloomberg) -- Microsoft Corp. is bigger than most countries’ whole stock markets and its bond rating would be the envy of many nations. Now a DoubleLine Capital portfolio manager is raising an uncomfortable — if theoretical — question about the software maker and its fortress balance sheet: Is it safer than the US government’s?Most Read from BloombergWhy American Mobility Ground to a HaltSaudi Arabia’s Neom Signs $5 Billion Deal for AI Data CenterCan Portland Turn a Corner?SpaceX Bid to Turn Te'},\n",
       " {'title': 'Martello Reports Financial Results for the Third Quarter of the 2025 Fiscal Year',\n",
       "  'description': 'Martello Technologies Group Inc., (\"Martello\" or the \"Company\") (TSXV: MTLO), a provider of user experience management solutions for cloud communication and collaboration systems such as Microsoft Teams and Microsoft 365, today released financial results for the three and nine months ended December 31, 2024. Martello\\'s software proactively detects performance issues before they impact users of these systems.'}]"
      ]
     },
     "execution_count": 31,
     "metadata": {},
     "output_type": "execute_result"
    }
   ],
   "source": [
    "import json\n",
    "\n",
    "json.loads(news[0])"
   ]
  },
  {
   "cell_type": "code",
   "execution_count": 27,
   "metadata": {},
   "outputs": [
    {
     "data": {
      "text/plain": [
       "[{'input': None,\n",
       "  'output': 'Here are some recent news articles related to DeepSeek:\\n\\n1. **DeepSeek Got The Spotlight, Alibaba Won Apple\\'s AI Business**  \\n   Apple has chosen Alibaba over DeepSeek to implement its AI-powered services for the iPhone in China, aiming to counter declining sales.\\n\\n2. **Elon Musk says Grok 3 will outperform ChatGPT, DeepSeek in the coming weeks**  \\n   Elon Musk announced that his AI chatbot, Grok 3, is nearing completion and will soon be available, claiming it will outperform both ChatGPT and DeepSeek.\\n\\n3. **How Did DeepSeek Build Its A.I. With Less Money?**  \\n   DeepSeek, a Chinese start-up, utilized various technological tricks, including a method called \"mixture of experts,\" to significantly reduce the costs associated with building its AI technology.\\n\\n4. **What DeepSeek\\'s Launch Means For The Human-in-the-Loop AI Market**  \\n   DeepSeek\\'s AI model is challenging traditional human-in-the-loop approaches by using synthetic data and expert input to reshape AI training and collaboration.\\n\\n5. **DeepSeek fails multiple security tests, experts warn businesses**  \\n   Researchers have reported that DeepSeek\\'s generative AI has failed several security tests, raising concerns about potential risks for users.\\n\\n6. **Alibaba chairman Joe Tsai hails DeepSeek as open-source inspiration for AI developers**  \\n   Joe Tsai, Alibaba\\'s chairman, praised DeepSeek\\'s innovations as a significant inspiration for AI developers focusing on open-source solutions.\\n\\n7. **DeepSeek gives China\\'s chipmakers leg up in race for cheaper AI**  \\n   DeepSeek\\'s AI models are providing Chinese chipmakers like Huawei a better chance to compete against U.S. processors by optimizing computational efficiency.\\n\\n8. **SambaNova Launches the Fastest DeepSeek-R1 671B with the Highest Efficiency**  \\n   SambaNova announced the launch of the DeepSeek-R1 671B, claiming it runs at unmatched speeds and efficiency on their cloud platform.\\n\\n9. **DeepSeek drives AI adoption by local Chinese governments from Shenzhen to Kunshan**  \\n   Local governments in China are increasingly adopting DeepSeek\\'s AI models to enhance administration and governance, with notable implementations in Shenzhen.\\n\\nIf you need more information on any specific article or topic, feel free to ask!'},\n",
       " {'input': None,\n",
       "  'output': \"I don't have a personal name, but you can call me your smart assistant! How can I help you today?\"},\n",
       " {'input': None, 'output': 'Hello! How can I assist you today?'},\n",
       " {'input': None, 'output': 'Hello! How can I assist you today?'},\n",
       " {'input': None,\n",
       "  'output': \"Microsoft's latest advancements in AI are having a significant impact on the tech market. Here are some key points from recent articles:\\n\\n1. **Microsoft's Competitive Position**: Microsoft is well-positioned to benefit from enterprise investments in AI services, with its cloud revenue surpassing $40 billion and AI-related revenue increasing by 175% year over year. However, there are concerns that the costs associated with AI growth may affect its stock performance negatively.\\n\\n2. **Impact on Other Sectors**: Analysts suggest that retail companies like Walmart and Target could benefit from the AI investments made by tech giants like Microsoft, without incurring the same level of infrastructure costs. This indicates a potential ripple effect where other sectors may see gains from AI advancements.\\n\\n3. **Challenges for Big Tech**: Innovations like DeepSeek's AI model present challenges to established tech companies, potentially benefiting smaller players in the market. This could lead to a more competitive landscape where incumbents face pressure from new, efficient models.\\n\\n4. **Comparison with Nvidia**: Both Microsoft and Nvidia are seen as leaders in AI, and their advancements could influence each other's stock performance. Investors are closely watching how these two companies will compete in the AI space.\\n\\nOverall, while Microsoft's advancements in AI are promising for its growth, they also introduce complexities that could affect its stock and the broader tech market.\"},\n",
       " {'input': 'hi', 'output': ''},\n",
       " {'input': None, 'output': 'hi'},\n",
       " {'input': 'Retrieving news',\n",
       "  'output': '[\\n    {\\n        \"title\": \"Microsoft Stock Is Falling as Artificial Intelligence (AI) Growth Is Getting More Expensive\",\\n        \"description\": \"To its credit, Microsoft is in a solid competitive position to benefit from enterprise investment in AI services. Microsoft\\'s cloud revenue surpassed $40 billion and grew 21% year over year. AI-related revenue is up to $13 billion on an annualized basis, and up 175% year over year.\"\\n    },\\n    {\\n        \"title\": \"You thought Magnificent 7 and tech stocks were the only winners of AI boom? Wait! Here\\'s a sector whose stocks could be an under-the-radar winner, say analysts\",\\n        \"description\": \"Retail stores such as Walmart and Target stand to gain from the enormous artificial intelligence investments being made by technology giants, without having to spend billions on infrastructure. According to Morgan Stanley analysts,\"\\n    },\\n    {\\n        \"title\": \"What DeepSeek\\'s AI Innovation Means For Investors And Big Tech\",\\n        \"description\": \"DeepSeek\\'s AI breakthrough challenges Big Tech with a cheaper, efficient model. This may be bad for the incumbents, but good for everybody else.\"\\n    },\\n    {\\n        \"title\": \"Better Artificial Intelligence (AI) Stock for 2025: Nvidia vs. Microsoft\",\\n        \"description\": \"Nvidia (NASDAQ: NVDA) and Microsoft (NASDAQ: MSFT) are pioneers in artificial intelligence (AI) as both companies have played central roles in bringing this technology ... the impact of AI on ...\"\\n    },\\n    {\\n        \"title\": \"Microsoft (MSFT): Brad Smith on China\\'s Tech Rise and Global AI Advancements\",\\n        \"description\": \"We recently published a list of 15 Trending AI Stocks on Latest ... $3.1 Trillion Microsoft Corporation (NASDAQ:MSFT) is a Washington-based technology company. On November 13, Brad Smith, the ...\"\\n    },\\n    {\\n        \"title\": \"Microsoft Supercharges AI to fix Windows software bugs\",\\n        \"description\": \"Microsoft\\'s new patent shows an upcoming system AI that makes detecting and fixing software issues easier for developers and regular Windows users.\"\\n    },\\n    {\\n        \"title\": \"Microsoft Corporation (MSFT): Among Lee Munder Capital Group’s Top Stock Picks\",\\n        \"description\": \"We recently compiled a list of the Top 10 Stocks to Buy According to Lee Munder Capital Group. In this article, we are going to take a look at where Microsoft Corporation (NASDAQ:MSFT) stands against the other stocks. Lee Munder Capital Group Investments, more commonly known as LMCG Investments, LLC, is an independent, employee-owned investment management […]\"\\n    },\\n    {\\n        \"title\": \"Is Microsoft Corporation (MSFT) the Best Major Stock to Buy According to Hedge Funds?\",\\n        \"description\": \"We recently published a list of 10 Best Major Stocks to Buy According to Hedge Funds. In this article, we are going to take a look at where Microsoft Corporation (NASDAQ:MSFT) stands against other best major stocks to buy according to hedge funds. After a notable growth of 25% for the broader market in 2024, […]\"\\n    },\\n    {\\n        \"title\": \"DoubleLine Asks Whether Microsoft Debt Is Safer Than Treasuries\",\\n        \"description\": \"(Bloomberg) -- Microsoft Corp. is bigger than most countries’ whole stock markets and its bond rating would be the envy of many nations. Now a DoubleLine Capital portfolio manager is raising an uncomfortable — if theoretical — question about the software maker and its fortress balance sheet: Is it safer than the US government’s?Most Read from BloombergWhy American Mobility Ground to a HaltSaudi Arabia’s Neom Signs $5 Billion Deal for AI Data CenterCan Portland Turn a Corner?SpaceX Bid to Turn Te\"\\n    },\\n    {\\n        \"title\": \"Martello Reports Financial Results for the Third Quarter of the 2025 Fiscal Year\",\\n        \"description\": \"Martello Technologies Group Inc., (\\\\\"Martello\\\\\" or the \\\\\"Company\\\\\") (TSXV: MTLO), a provider of user experience management solutions for cloud communication and collaboration systems such as Microsoft Teams and Microsoft 365, today released financial results for the three and nine months ended December 31, 2024. Martello\\'s software proactively detects performance issues before they impact users of these systems.\"\\n    }\\n]'},\n",
       " {'input': \"How will Microsoft's latest AI advancement affect other tech stocks in the market?\",\n",
       "  'output': ''},\n",
       " {'input': None,\n",
       "  'output': \"How will Microsoft's latest AI advancement affect other tech stocks in the market?\"},\n",
       " {'input': '{}', 'output': ''},\n",
       " {'input': \"what's your name?\", 'output': ''},\n",
       " {'input': None, 'output': \"what's your name?\"},\n",
       " {'input': 'hello', 'output': ''},\n",
       " {'input': None, 'output': 'hello'},\n",
       " {'input': '{}', 'output': ''},\n",
       " {'input': 'Retrieving news',\n",
       "  'output': '[\\n    {\\n        \"title\": \"DeepSeek Got The Spotlight, Alibaba Won Apple\\'s AI Business\",\\n        \"description\": \"Apple has picked Alibaba over DeepSeek to roll out its AI-powered suite of services for the iPhone in China — a move designed to counter declining sales.\"\\n    },\\n    {\\n        \"title\": \"Elon Musk says Grok 3 will outperform ChatGPT, DeepSeek in the coming weeks\",\\n        \"description\": \"Elon Musk has confirmed that his AI chatbot, Grok 3 is currently being finalized and will soon be available.The Latest Tech News, Delivered to Your Inbox\"\\n    },\\n    {\\n        \"title\": \"How Did DeepSeek Build Its A.I. With Less Money?\",\\n        \"description\": \"The Chinese start-up used several technological tricks, including a method called \\\\\"mixture of experts,\\\\\" to significantly reduce the cost of building the technology.\"\\n    },\\n    {\\n        \"title\": \"What DeepSeek\\'s Launch Means For The Human-in-the-Loop AI Market\",\\n        \"description\": \"DeepSeek\\'s AI model challenges traditional HITL approaches, using synthetic data and expert input to reshape AI training and the future of human-AI collaboration.\"\\n    },\\n    {\\n        \"title\": \"DeepSeek fails multiple security tests, experts warn businesses\",\\n        \"description\": \"Researchers say the emerging Chinese generative AI DeepSeek failed multiple security tests, potentially posing serious risks for users.\"\\n    },\\n    {\\n        \"title\": \"Alibaba chairman Joe Tsai hails DeepSeek as open-source inspiration for AI developers\",\\n        \"description\": \"DeepSeek\\'s innovations will inspire more artificial intelligence (AI) developers to focus on open-source solutions, Alibaba Group Holding co-founder and chairman Joe Tsai said during a forum in Dubai on Thursday. DeepSeek\\'s innovation in producing cheap-but-high-performing large language models is \\\\\"quite significant\\\\\", the executive said during the World Government Summit. Both Alibaba and DeepSeek are based in Hangzhou, capital of eastern Zhejiang province, which has been emerging as a new tech\"\\n    },\\n    {\\n        \"title\": \"DeepSeek gives China\\'s chipmakers leg up in race for cheaper AI\",\\n        \"description\": \"The rise of DeepSeek\\'s artificial intelligence (AI) models is seen providing some Chinese chipmakers such as Huawei a better chance to compete in the domestic market against more powerful U.S. processors.  Huawei and its Chinese peers have for years struggled to match Nvidia in building top-end chips that could compete with the U.S. firm\\'s products for training models, a process where data is fed to algorithms to help them learn to make accurate decisions.  However, DeepSeek\\'s models, which focus on \\\\\"inference,\\\\\" or when an AI model produces conclusions, optimise computational efficiency rather than relying solely on raw processing power.\"\\n    },\\n    {\\n        \"title\": \"SambaNova Launches the Fastest DeepSeek-R1 671B with the Highest Efficiency\",\\n        \"description\": \"PALO ALTO, Calif., February 13, 2025--SambaNova, the generative AI company delivering the most efficient AI chips and fastest models, announces that DeepSeek-R1 671B is running today on SambaNova Cloud at 198 tokens per second (t/s), achieving speeds and efficiency that no other platform can match.\"\\n    },\\n    {\\n        \"title\": \"DeepSeek drives AI adoption by local Chinese governments from Shenzhen to Kunshan\",\\n        \"description\": \"A growing number of local governments in China are rushing to adopt DeepSeek\\'s artificial intelligence (AI) models to enhance administration and governance, reflecting the rising adoption of AI in lower levels of public management. Authorities in Longgang district in Shenzhen, Guangdong province, have utilised DeepSeek\\'s latest model to improve the governance of its 4 million residents living in an area larger than Singapore. It is the first Chinese district government to widely embrace the star\"\\n    }\\n]'},\n",
       " {'input': 'deepseek', 'output': ''},\n",
       " {'input': None, 'output': 'deepseek'},\n",
       " {'input': '{}', 'output': ''}]"
      ]
     },
     "execution_count": 27,
     "metadata": {},
     "output_type": "execute_result"
    }
   ],
   "source": [
    "msg"
   ]
  },
  {
   "cell_type": "code",
   "execution_count": null,
   "metadata": {},
   "outputs": [],
   "source": []
  },
  {
   "cell_type": "code",
   "execution_count": null,
   "metadata": {},
   "outputs": [],
   "source": []
  }
 ],
 "metadata": {
  "kernelspec": {
   "display_name": ".venv",
   "language": "python",
   "name": "python3"
  },
  "language_info": {
   "codemirror_mode": {
    "name": "ipython",
    "version": 3
   },
   "file_extension": ".py",
   "mimetype": "text/x-python",
   "name": "python",
   "nbconvert_exporter": "python",
   "pygments_lexer": "ipython3",
   "version": "3.12.2"
  }
 },
 "nbformat": 4,
 "nbformat_minor": 2
}
